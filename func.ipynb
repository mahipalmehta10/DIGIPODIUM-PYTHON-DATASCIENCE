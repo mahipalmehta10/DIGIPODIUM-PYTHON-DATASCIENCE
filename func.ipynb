{
 "cells": [
  {
   "attachments": {},
   "cell_type": "markdown",
   "metadata": {},
   "source": [
    "non parametrized,non returning functions"
   ]
  },
  {
   "attachments": {},
   "cell_type": "markdown",
   "metadata": {},
   "source": [
    "syntax\n",
    "```python\n",
    "\n",
    "def fun_name(<parameters...>)\n",
    "    statement 1    \n",
    "    statement 1\n",
    "    ...\n",
    "    <return values ...>    \n"
   ]
  },
  {
   "cell_type": "code",
   "execution_count": 1,
   "metadata": {},
   "outputs": [],
   "source": [
    "def greeting():\n",
    "    print('good morning')    \n",
    "    print('how are you')    \n",
    "    print('good')    \n",
    "    print('ok')  \n"
   ]
  },
  {
   "cell_type": "code",
   "execution_count": 2,
   "metadata": {},
   "outputs": [
    {
     "name": "stdout",
     "output_type": "stream",
     "text": [
      "good morning\n",
      "how are you\n",
      "good\n",
      "ok\n"
     ]
    }
   ],
   "source": [
    "#calling a function\n",
    "greeting()"
   ]
  },
  {
   "cell_type": "code",
   "execution_count": 4,
   "metadata": {},
   "outputs": [
    {
     "name": "stdout",
     "output_type": "stream",
     "text": [
      "5\n"
     ]
    }
   ],
   "source": [
    "a=len('hello')\n",
    "print(a)"
   ]
  },
  {
   "attachments": {},
   "cell_type": "markdown",
   "metadata": {},
   "source": [
    "function returning a value"
   ]
  },
  {
   "cell_type": "code",
   "execution_count": 9,
   "metadata": {},
   "outputs": [],
   "source": [
    "def random5():\n",
    "    from random import choices\n",
    "    x=list('🦌🐎🐆🐅🦮🐕‍🦺🐩🐕🐈🐈‍⬛🦘🦙🐏🐪🐐🐑🐫🐘🦡🦨🦥')\n",
    "    return \" \" .join(choices(x,k=5))"
   ]
  },
  {
   "cell_type": "code",
   "execution_count": 11,
   "metadata": {},
   "outputs": [
    {
     "data": {
      "text/plain": [
       "'😘 🐕 🐕 🦡 🦮'"
      ]
     },
     "execution_count": 11,
     "metadata": {},
     "output_type": "execute_result"
    }
   ],
   "source": [
    "random5()"
   ]
  },
  {
   "cell_type": "code",
   "execution_count": null,
   "metadata": {},
   "outputs": [],
   "source": []
  },
  {
   "cell_type": "code",
   "execution_count": 12,
   "metadata": {},
   "outputs": [
    {
     "name": "stdout",
     "output_type": "stream",
     "text": [
      "->🐏 🦘 😊 🐕 🐎\n",
      "->👍 🦥 👍 🦘 🐫\n",
      "->🐏 🐩 🦡 🐕 🐏\n",
      "->🐪 😘 🦘 😘 🦮\n",
      "->🦨 🐘 🐩 🐕 😘\n"
     ]
    }
   ],
   "source": [
    "for i in range(5):\n",
    "    print(f'->{random5()}')"
   ]
  },
  {
   "cell_type": "code",
   "execution_count": 1,
   "metadata": {},
   "outputs": [
    {
     "ename": "TypeError",
     "evalue": "can't multiply sequence by non-int of type 'str'",
     "output_type": "error",
     "traceback": [
      "\u001b[1;31m---------------------------------------------------------------------------\u001b[0m",
      "\u001b[1;31mTypeError\u001b[0m                                 Traceback (most recent call last)",
      "Cell \u001b[1;32mIn[1], line 2\u001b[0m\n\u001b[0;32m      1\u001b[0m num\u001b[39m=\u001b[39m\u001b[39minput\u001b[39m(\u001b[39m'\u001b[39m\u001b[39mno\u001b[39m\u001b[39m'\u001b[39m)\n\u001b[1;32m----> 2\u001b[0m \u001b[39mprint\u001b[39m(\u001b[39m'\u001b[39m\u001b[39msqaure no is:\u001b[39m\u001b[39m'\u001b[39m,num\u001b[39m*\u001b[39;49mnum)\n",
      "\u001b[1;31mTypeError\u001b[0m: can't multiply sequence by non-int of type 'str'"
     ]
    }
   ],
   "source": [
    "num=input('no')\n",
    "print('sqaure no is:',num*num)"
   ]
  },
  {
   "cell_type": "code",
   "execution_count": 1,
   "metadata": {},
   "outputs": [],
   "source": [
    "def si(p,r,t):\n",
    "    # ans=p*r*t/100\n",
    "    # print(f'si= {ans}')\n",
    "    return p*r*t/100\n",
    "\n",
    "def ci(p,r,t):\n",
    "    ans=p*(1+r/100)**t\n",
    "    print(f'ci={ans}')"
   ]
  },
  {
   "cell_type": "code",
   "execution_count": 2,
   "metadata": {},
   "outputs": [
    {
     "name": "stdout",
     "output_type": "stream",
     "text": [
      "si= 1100.0\n"
     ]
    }
   ],
   "source": [
    "si(10000,5.5,2)"
   ]
  },
  {
   "cell_type": "code",
   "execution_count": 3,
   "metadata": {},
   "outputs": [
    {
     "name": "stdout",
     "output_type": "stream",
     "text": [
      "si= 240.0\n",
      "None\n"
     ]
    }
   ],
   "source": [
    "print(si(1200,2,10)) #print is used when function is of return type"
   ]
  },
  {
   "cell_type": "code",
   "execution_count": null,
   "metadata": {},
   "outputs": [],
   "source": []
  }
 ],
 "metadata": {
  "kernelspec": {
   "display_name": "base",
   "language": "python",
   "name": "python3"
  },
  "language_info": {
   "codemirror_mode": {
    "name": "ipython",
    "version": 3
   },
   "file_extension": ".py",
   "mimetype": "text/x-python",
   "name": "python",
   "nbconvert_exporter": "python",
   "pygments_lexer": "ipython3",
   "version": "3.10.8"
  },
  "orig_nbformat": 4,
  "vscode": {
   "interpreter": {
    "hash": "0a393f6f2f3989fe3134afbb2dfaab9aee06b31953dc2003d918565c3aaf069d"
   }
  }
 },
 "nbformat": 4,
 "nbformat_minor": 2
}
