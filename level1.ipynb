{
 "cells": [
  {
   "cell_type": "markdown",
   "metadata": {},
   "source": [
    "# python basics\n",
    "### level 01\n",
    "- variables\n",
    "- input output\n",
    "- operators\n",
    "- datatypes\n",
    "### level 02\n",
    "- if\n",
    "- ifelse\n",
    "- elseif\n",
    "- match\n",
    "- loops\n",
    "   - for\n",
    "   - while\n",
    "   - functions\n",
    "### level03\n",
    "- string\n",
    "- duct\n",
    "> this is a markdown"
   ]
  },
  {
   "cell_type": "code",
   "execution_count": 1,
   "metadata": {},
   "outputs": [],
   "source": [
    "age=10\n",
    "is_married=False\n",
    "Name='bob'\n",
    "Value=1.323"
   ]
  },
  {
   "cell_type": "code",
   "execution_count": 7,
   "metadata": {},
   "outputs": [],
   "source": [
    "name = \"bruce wayne 01\"\n",
    "color= 'digipodium'\n",
    "Institute= 'digipodium'\n",
    "is_coding= True\n",
    "x= None"
   ]
  },
  {
   "cell_type": "code",
   "execution_count": null,
   "metadata": {},
   "outputs": [],
   "source": [
    "a=[5,10,20,30]\n",
    "values =[1,2.2,'python']\n",
    "tupleexample=('red','green','orange')"
   ]
  },
  {
   "cell_type": "code",
   "execution_count": null,
   "metadata": {},
   "outputs": [],
   "source": [
    "sets={5,10,15,20,25}\n",
    "value={1,2.2,'python'}\n",
    "color={'red','green','blue'}"
   ]
  },
  {
   "cell_type": "code",
   "execution_count": null,
   "metadata": {},
   "outputs": [],
   "source": [
    "car_info={\n",
    "    \"brand\" : \"ford\",\n",
    "    \"model\": \"mustang\",\n",
    "    \" colour\" : \"blue\"\n",
    "}"
   ]
  },
  {
   "cell_type": "code",
   "execution_count": null,
   "metadata": {},
   "outputs": [],
   "source": [
    "x=10\n",
    "y=5  #(assignment operator)\n",
    "print(x+y)\n",
    "print(x-y)\n",
    "print(x*y)\n",
    "print(x/y) # float division\n",
    "print(x//y) # double division\n",
    "print(x%y) # remainder\n",
    "print(x**y) # exponention"
   ]
  },
  {
   "attachments": {},
   "cell_type": "markdown",
   "metadata": {},
   "source": [
    "# assignment operators\n"
   ]
  },
  {
   "cell_type": "code",
   "execution_count": 1,
   "metadata": {},
   "outputs": [
    {
     "name": "stdout",
     "output_type": "stream",
     "text": [
      "False\n",
      "True\n",
      "False\n",
      "True\n",
      "False\n",
      "True\n"
     ]
    }
   ],
   "source": [
    "x= 10 \n",
    "y =20\n",
    "print(x>y)\n",
    "print(x<y)\n",
    "print(x==100)\n",
    "print(x!=30)\n",
    "print(x>=30)\n",
    "print(x<=20)"
   ]
  },
  {
   "cell_type": "code",
   "execution_count": 2,
   "metadata": {},
   "outputs": [
    {
     "name": "stdout",
     "output_type": "stream",
     "text": [
      "0\n"
     ]
    }
   ],
   "source": [
    "a=100\n",
    "a+= 15\n",
    "a -= 10\n",
    "a *=10\n",
    "a %=5\n",
    "print(a)"
   ]
  },
  {
   "cell_type": "code",
   "execution_count": 2,
   "metadata": {},
   "outputs": [],
   "source": [
    "x=[10,20,26,35,18]"
   ]
  },
  {
   "cell_type": "code",
   "execution_count": 3,
   "metadata": {},
   "outputs": [
    {
     "data": {
      "text/plain": [
       "True"
      ]
     },
     "execution_count": 3,
     "metadata": {},
     "output_type": "execute_result"
    }
   ],
   "source": [
    "20 in x "
   ]
  },
  {
   "cell_type": "code",
   "execution_count": 4,
   "metadata": {},
   "outputs": [
    {
     "data": {
      "text/plain": [
       "False"
      ]
     },
     "execution_count": 4,
     "metadata": {},
     "output_type": "execute_result"
    }
   ],
   "source": [
    "35 not in x"
   ]
  },
  {
   "cell_type": "code",
   "execution_count": 5,
   "metadata": {},
   "outputs": [
    {
     "data": {
      "text/plain": [
       "1"
      ]
     },
     "execution_count": 5,
     "metadata": {},
     "output_type": "execute_result"
    }
   ],
   "source": [
    "int(True)"
   ]
  },
  {
   "cell_type": "code",
   "execution_count": 6,
   "metadata": {},
   "outputs": [
    {
     "data": {
      "text/plain": [
       "0"
      ]
     },
     "execution_count": 6,
     "metadata": {},
     "output_type": "execute_result"
    }
   ],
   "source": [
    "int(False)"
   ]
  },
  {
   "cell_type": "code",
   "execution_count": 2,
   "metadata": {},
   "outputs": [
    {
     "data": {
      "text/plain": [
       "'1002'"
      ]
     },
     "execution_count": 2,
     "metadata": {},
     "output_type": "execute_result"
    }
   ],
   "source": [
    "str(1002)"
   ]
  },
  {
   "cell_type": "code",
   "execution_count": 5,
   "metadata": {},
   "outputs": [
    {
     "data": {
      "text/plain": [
       "10"
      ]
     },
     "execution_count": 5,
     "metadata": {},
     "output_type": "execute_result"
    }
   ],
   "source": [
    "int(10.112)"
   ]
  },
  {
   "attachments": {},
   "cell_type": "markdown",
   "metadata": {},
   "source": [
    "this is to take input"
   ]
  },
  {
   "cell_type": "code",
   "execution_count": 6,
   "metadata": {},
   "outputs": [],
   "source": [
    "name=input(\"enter your name\")\n",
    "contactno =input(\"enter your contactno:\")\n",
    "age=int(input(\"enter your age:\"))"
   ]
  },
  {
   "attachments": {},
   "cell_type": "markdown",
   "metadata": {},
   "source": [
    "# writing a program to calculate simple interest"
   ]
  },
  {
   "cell_type": "code",
   "execution_count": 8,
   "metadata": {},
   "outputs": [
    {
     "name": "stdout",
     "output_type": "stream",
     "text": [
      "your simple interest is :1000.0\n"
     ]
    }
   ],
   "source": [
    "p=int(input(\"enter the principal amount\"))\n",
    "r=float(input(\"enter the rate of interest \"))\n",
    "t=int(input(\"enter the time\"))\n",
    "si= p*r*t/100\n",
    "interest=str(si)\n",
    "print(\"your simple interest is :\" +interest)"
   ]
  },
  {
   "attachments": {},
   "cell_type": "markdown",
   "metadata": {},
   "source": [
    "wap to calculate area and circumference of circle using diameter as input"
   ]
  },
  {
   "cell_type": "code",
   "execution_count": 10,
   "metadata": {},
   "outputs": [
    {
     "name": "stdout",
     "output_type": "stream",
     "text": [
      "the area is :78.5\n",
      "the circumference is :31.400000000000002\n"
     ]
    }
   ],
   "source": [
    "diameter=float(input(\"enter the diameter\"))\n",
    "radius=diameter/2\n",
    "pi=3.14\n",
    "area= str(pi*r*r)\n",
    "circumference= str(2*pi*r)\n",
    "print(\"the area is :\"+ area)\n",
    "print(\"the circumference is :\"+ circumference)"
   ]
  },
  {
   "attachments": {},
   "cell_type": "markdown",
   "metadata": {},
   "source": [
    "displaying information to the user"
   ]
  },
  {
   "cell_type": "code",
   "execution_count": 12,
   "metadata": {},
   "outputs": [
    {
     "name": "stdout",
     "output_type": "stream",
     "text": [
      "pablo has got 250 badges\n"
     ]
    }
   ],
   "source": [
    "y=input(\"your name:\")\n",
    "x=input(\"how many badges:\")\n",
    "print(f'{y} has got {x} badges')"
   ]
  },
  {
   "cell_type": "code",
   "execution_count": 3,
   "metadata": {},
   "outputs": [
    {
     "ename": "TypeError",
     "evalue": "puppy() takes no arguments",
     "output_type": "error",
     "traceback": [
      "\u001b[1;31m---------------------------------------------------------------------------\u001b[0m",
      "\u001b[1;31mTypeError\u001b[0m                                 Traceback (most recent call last)",
      "Cell \u001b[1;32mIn[3], line 9\u001b[0m\n\u001b[0;32m      6\u001b[0m          \u001b[39mdef\u001b[39;00m \u001b[39mplay\u001b[39m(\u001b[39mself\u001b[39m):\n\u001b[0;32m      7\u001b[0m               \u001b[39mprint\u001b[39m(\u001b[39mself\u001b[39m\u001b[39m.\u001b[39mname\u001b[39m+\u001b[39m\u001b[39m\"\u001b[39m\u001b[39mis playing with the\u001b[39m\u001b[39m\"\u001b[39m\u001b[39m+\u001b[39m\u001b[39mself\u001b[39m\u001b[39m.\u001b[39mfavourite_toy)\n\u001b[1;32m----> 9\u001b[0m marble \u001b[39m=\u001b[39m puppy(\u001b[39m'\u001b[39;49m\u001b[39mmarble\u001b[39;49m\u001b[39m'\u001b[39;49m,\u001b[39m'\u001b[39;49m\u001b[39mteddy bear\u001b[39;49m\u001b[39m'\u001b[39;49m)    \n\u001b[0;32m     10\u001b[0m marble\u001b[39m.\u001b[39mplay()\n",
      "\u001b[1;31mTypeError\u001b[0m: puppy() takes no arguments"
     ]
    }
   ],
   "source": [
    "class puppy():\n",
    "        def _init_(self,name,favourite_toy):\n",
    "         self.name=name\n",
    "         self.favourite_toy=favourite_toy\n",
    "        \n",
    "         def play(self):\n",
    "              print(self.name+\"is playing with the\"+self.favourite_toy)\n",
    "              \n",
    "marble = puppy('marble','teddy bear')    \n",
    "marble.play()"
   ]
  }
 ],
 "metadata": {
  "kernelspec": {
   "display_name": "base",
   "language": "python",
   "name": "python3"
  },
  "language_info": {
   "codemirror_mode": {
    "name": "ipython",
    "version": 3
   },
   "file_extension": ".py",
   "mimetype": "text/x-python",
   "name": "python",
   "nbconvert_exporter": "python",
   "pygments_lexer": "ipython3",
   "version": "3.10.8"
  },
  "orig_nbformat": 4,
  "vscode": {
   "interpreter": {
    "hash": "0a393f6f2f3989fe3134afbb2dfaab9aee06b31953dc2003d918565c3aaf069d"
   }
  }
 },
 "nbformat": 4,
 "nbformat_minor": 2
}
