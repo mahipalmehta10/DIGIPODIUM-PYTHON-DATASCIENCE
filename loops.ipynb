{
 "cells": [
  {
   "cell_type": "code",
   "execution_count": 1,
   "metadata": {},
   "outputs": [
    {
     "name": "stdout",
     "output_type": "stream",
     "text": [
      "23\n",
      "V\n",
      "i\n",
      "j\n",
      "a\n",
      "y\n",
      " \n",
      "D\n",
      "e\n",
      "e\n",
      "n\n",
      "a\n",
      "n\n",
      "a\n",
      "t\n",
      "h\n",
      " \n",
      "C\n",
      "h\n",
      "a\n",
      "u\n",
      "h\n",
      "a\n",
      "n\n"
     ]
    }
   ],
   "source": [
    "name =\"Vijay Deenanath Chauhan\"\n",
    "print(len(name))\n",
    "for char in name:\n",
    "    print(char)"
   ]
  },
  {
   "cell_type": "code",
   "execution_count": 3,
   "metadata": {},
   "outputs": [
    {
     "name": "stdout",
     "output_type": "stream",
     "text": [
      "V\n",
      "j\n",
      "y\n",
      " \n",
      "D\n",
      "n\n",
      "n\n",
      "t\n",
      "h\n",
      " \n",
      "C\n",
      "h\n",
      "h\n",
      "n\n"
     ]
    }
   ],
   "source": [
    "for i in name:\n",
    "    if i not in 'aeiouAEIOU':\n",
    "        print(i)"
   ]
  },
  {
   "cell_type": "code",
   "execution_count": 5,
   "metadata": {},
   "outputs": [],
   "source": [
    "name=['red','green','blue','yellow']"
   ]
  },
  {
   "cell_type": "code",
   "execution_count": 8,
   "metadata": {},
   "outputs": [
    {
     "name": "stdout",
     "output_type": "stream",
     "text": [
      "red has 3 characters\n",
      "green has 5 characters\n",
      "blue has 4 characters\n",
      "yellow has 6 characters\n"
     ]
    }
   ],
   "source": [
    "for c in name:\n",
    "    print(f'{c} has {len(c)} characters')"
   ]
  },
  {
   "attachments": {},
   "cell_type": "markdown",
   "metadata": {},
   "source": [
    "wap to print the length of string is even or odd from a list of strings"
   ]
  },
  {
   "attachments": {},
   "cell_type": "markdown",
   "metadata": {},
   "source": [
    "more for loop\n",
    "- enumerate()\n",
    "- zip()"
   ]
  },
  {
   "cell_type": "code",
   "execution_count": 2,
   "metadata": {},
   "outputs": [
    {
     "name": "stdout",
     "output_type": "stream",
     "text": [
      "rose\n",
      "lily\n",
      "jasmine\n",
      "lotus\n",
      "0 rose\n",
      "1 lily\n",
      "2 jasmine\n",
      "3 lotus\n"
     ]
    }
   ],
   "source": [
    "# enumerate example\n",
    "flowers=['rose','lily','jasmine','lotus']\n",
    "for flower in flowers:\n",
    "    print(flower)\n"
   ]
  },
  {
   "cell_type": "code",
   "execution_count": 3,
   "metadata": {},
   "outputs": [
    {
     "name": "stdout",
     "output_type": "stream",
     "text": [
      "0 rose\n",
      "1 lily\n",
      "2 jasmine\n",
      "3 lotus\n"
     ]
    }
   ],
   "source": [
    "    \n",
    "for i,flower in enumerate(flowers):\n",
    "    print(i,flower)\n",
    "# gives the index of values "
   ]
  },
  {
   "cell_type": "code",
   "execution_count": 4,
   "metadata": {},
   "outputs": [
    {
     "name": "stdout",
     "output_type": "stream",
     "text": [
      "(1+7)**2= 64\n",
      "(2+8)**2= 100\n",
      "(3+9)**2= 144\n",
      "(4+10)**2= 196\n",
      "(5+11)**2= 256\n"
     ]
    }
   ],
   "source": [
    "x=[1,2,3,4,5,6]\n",
    "y=[7,8,9,10,11]\n",
    "# use formula (a+b)**2 for each pair of values from both list\n",
    "for i,j in zip(x,y):\n",
    "    print(f'({i}+{j})**2= {(i+j)**2}')\n",
    "# zip is useful when we use 1 loop for multiple data"
   ]
  },
  {
   "attachments": {},
   "cell_type": "markdown",
   "metadata": {},
   "source": [
    "break and continue concept"
   ]
  },
  {
   "cell_type": "code",
   "execution_count": 5,
   "metadata": {},
   "outputs": [
    {
     "name": "stdout",
     "output_type": "stream",
     "text": [
      "234567871005604103"
     ]
    }
   ],
   "source": [
    "a=[2,3,4,5,6,7,8,7,1,0,0,5,6,0,4,1,0,3]\n",
    "for i in a:\n",
    "    print(i,end='')"
   ]
  },
  {
   "cell_type": "code",
   "execution_count": 6,
   "metadata": {},
   "outputs": [
    {
     "name": "stdout",
     "output_type": "stream",
     "text": [
      "23456787156413"
     ]
    }
   ],
   "source": [
    "#we can skip the zeros using continue\n",
    "for i in a:\n",
    "  if i ==0:continue\n",
    "  print(i,end='')\n"
   ]
  },
  {
   "cell_type": "code",
   "execution_count": 11,
   "metadata": {},
   "outputs": [
    {
     "name": "stdout",
     "output_type": "stream",
     "text": [
      "sam\n",
      "sarah\n",
      "miguel\n"
     ]
    }
   ],
   "source": [
    "names=['sam','sarah','miguel','','alex','','pablo']\n",
    "for name in names:\n",
    "    if len(name)==0:break\n",
    "    print(name)"
   ]
  },
  {
   "cell_type": "code",
   "execution_count": 13,
   "metadata": {},
   "outputs": [
    {
     "name": "stdout",
     "output_type": "stream",
     "text": [
      "sam\n",
      "sarah\n",
      "miguel\n",
      "error:empty name found\n",
      "alex\n",
      "error:empty name found\n",
      "pablo\n"
     ]
    }
   ],
   "source": [
    "for name in names:\n",
    "    if len(name)==0:\n",
    "        print('error:empty name found')\n",
    "        continue\n",
    "    print(name)"
   ]
  }
 ],
 "metadata": {
  "kernelspec": {
   "display_name": "base",
   "language": "python",
   "name": "python3"
  },
  "language_info": {
   "codemirror_mode": {
    "name": "ipython",
    "version": 3
   },
   "file_extension": ".py",
   "mimetype": "text/x-python",
   "name": "python",
   "nbconvert_exporter": "python",
   "pygments_lexer": "ipython3",
   "version": "3.10.8"
  },
  "orig_nbformat": 4,
  "vscode": {
   "interpreter": {
    "hash": "0a393f6f2f3989fe3134afbb2dfaab9aee06b31953dc2003d918565c3aaf069d"
   }
  }
 },
 "nbformat": 4,
 "nbformat_minor": 2
}
