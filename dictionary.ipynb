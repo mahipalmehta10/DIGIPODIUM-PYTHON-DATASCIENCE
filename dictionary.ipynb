{
 "cells": [
  {
   "cell_type": "code",
   "execution_count": 1,
   "metadata": {},
   "outputs": [
    {
     "name": "stdout",
     "output_type": "stream",
     "text": [
      "['barndon sanderson', 'the lost metal', '7', '2022', 'fantasy', '19.00']\n"
     ]
    }
   ],
   "source": [
    "details=['barndon sanderson','the lost metal','7','2022','fantasy','19.00']\n",
    "\n",
    "print(details)"
   ]
  },
  {
   "attachments": {},
   "cell_type": "markdown",
   "metadata": {},
   "source": [
    "# dictionary\n",
    "- ordered data structure\n",
    "- unindexed , mutable\n",
    "- key:value pair\n",
    "- key is immutable,unique\n",
    "- value is mutable and can be duplicated and heterogenous\n",
    "- dictionary can be nested\n",
    "- dictionary can be created using the dict() function\n",
    "- dictionary can be created using { } curly  braces"
   ]
  },
  {
   "cell_type": "code",
   "execution_count": 2,
   "metadata": {},
   "outputs": [],
   "source": [
    "details_dict= {\n",
    "    'author':'brandon sanderson', \n",
    "    'title':' the lost metal',\n",
    "    'part' :  7,  \n",
    "    'genre':' fantasy', \n",
    "    'release date':'2022',\n",
    "    'price':' $19.00' \n",
    "\n",
    "}"
   ]
  },
  {
   "cell_type": "code",
   "execution_count": 3,
   "metadata": {},
   "outputs": [
    {
     "name": "stdout",
     "output_type": "stream",
     "text": [
      "{'author': 'brandon sanderson', 'title': ' the lost metal', 'part': 7, 'genre': 'fantasy', 'release date': '2022', 'price': ' $19.00'}\n",
      "<class 'dict'>\n"
     ]
    }
   ],
   "source": [
    "print(details_dict)\n",
    "print(type(details_dict))"
   ]
  },
  {
   "cell_type": "code",
   "execution_count": 4,
   "metadata": {},
   "outputs": [
    {
     "data": {
      "text/plain": [
       "'brandon sanderson'"
      ]
     },
     "execution_count": 4,
     "metadata": {},
     "output_type": "execute_result"
    }
   ],
   "source": [
    "details_dict['author']"
   ]
  },
  {
   "cell_type": "code",
   "execution_count": 5,
   "metadata": {},
   "outputs": [
    {
     "data": {
      "text/plain": [
       "'2022'"
      ]
     },
     "execution_count": 5,
     "metadata": {},
     "output_type": "execute_result"
    }
   ],
   "source": [
    "details_dict['release date']"
   ]
  },
  {
   "cell_type": "code",
   "execution_count": 6,
   "metadata": {},
   "outputs": [],
   "source": [
    "details_dict['release date']= '15 november, 2022'"
   ]
  },
  {
   "cell_type": "code",
   "execution_count": 7,
   "metadata": {},
   "outputs": [
    {
     "data": {
      "text/plain": [
       "{'author': 'brandon sanderson',\n",
       " 'title': ' the lost metal',\n",
       " 'part': 7,\n",
       " 'genre': 'fantasy',\n",
       " 'release date': '15 november, 2022',\n",
       " 'price': ' $19.00'}"
      ]
     },
     "execution_count": 7,
     "metadata": {},
     "output_type": "execute_result"
    }
   ],
   "source": [
    "details_dict"
   ]
  },
  {
   "cell_type": "code",
   "execution_count": 10,
   "metadata": {},
   "outputs": [],
   "source": [
    "student_dict= {\n",
    "    'name' : 'johnathon',\n",
    "    'age'  : 22,\n",
    "    'gender': 'male',\n",
    "    'contact_no': '255846',\n",
    "    'city': 'texas',\n",
    "    'blood_group': 'o +ve',\n",
    "}"
   ]
  },
  {
   "cell_type": "code",
   "execution_count": 12,
   "metadata": {},
   "outputs": [
    {
     "data": {
      "text/plain": [
       "{'name': 'johnathon',\n",
       " 'age': '22',\n",
       " 'gender': 'male',\n",
       " 'contact_no': '255846',\n",
       " 'city': 'texas',\n",
       " 'blood_group': 'o +ve'}"
      ]
     },
     "execution_count": 12,
     "metadata": {},
     "output_type": "execute_result"
    }
   ],
   "source": [
    "student_dict"
   ]
  },
  {
   "cell_type": "code",
   "execution_count": 13,
   "metadata": {},
   "outputs": [],
   "source": [
    "details_dict['pages'] = 528"
   ]
  },
  {
   "cell_type": "code",
   "execution_count": 14,
   "metadata": {},
   "outputs": [
    {
     "data": {
      "text/plain": [
       "{'author': 'brandon sanderson',\n",
       " 'title': ' the lost metal',\n",
       " 'part': 7,\n",
       " 'genre': 'fantasy',\n",
       " 'release date': '15 november, 2022',\n",
       " 'price': ' $19.00',\n",
       " 'pages': 528}"
      ]
     },
     "execution_count": 14,
     "metadata": {},
     "output_type": "execute_result"
    }
   ],
   "source": [
    "details_dict"
   ]
  },
  {
   "cell_type": "code",
   "execution_count": 15,
   "metadata": {},
   "outputs": [
    {
     "name": "stdout",
     "output_type": "stream",
     "text": [
      "brandon sanderson\n",
      " the lost metal\n",
      "7\n",
      "fantasy\n",
      "15 november, 2022\n",
      " $19.00\n",
      "528\n"
     ]
    }
   ],
   "source": [
    "for k in details_dict:\n",
    "    print(details_dict[k])"
   ]
  },
  {
   "cell_type": "code",
   "execution_count": 19,
   "metadata": {},
   "outputs": [
    {
     "name": "stdout",
     "output_type": "stream",
     "text": [
      "author               brandon sanderson\n",
      "title                 the lost metal\n",
      "part                 7\n",
      "genre                fantasy\n",
      "release date         15 november, 2022\n",
      "price                 $19.00\n",
      "pages                528\n"
     ]
    }
   ],
   "source": [
    "for k,v in details_dict.items(): #used to take both key and values together\n",
    "    print(f'{k:20} {v}')"
   ]
  },
  {
   "cell_type": "code",
   "execution_count": 20,
   "metadata": {},
   "outputs": [
    {
     "data": {
      "text/plain": [
       "['author', 'title', 'part', 'genre', 'release date', 'price', 'pages']"
      ]
     },
     "execution_count": 20,
     "metadata": {},
     "output_type": "execute_result"
    }
   ],
   "source": [
    "list(details_dict.keys()) #prints the dictionary in a list manner"
   ]
  },
  {
   "cell_type": "code",
   "execution_count": 21,
   "metadata": {},
   "outputs": [
    {
     "data": {
      "text/plain": [
       "528"
      ]
     },
     "execution_count": 21,
     "metadata": {},
     "output_type": "execute_result"
    }
   ],
   "source": [
    "details_dict.get('pages',0) #get is a safer way to access key and 0 is default value"
   ]
  },
  {
   "cell_type": "code",
   "execution_count": 23,
   "metadata": {},
   "outputs": [
    {
     "data": {
      "text/plain": [
       "0"
      ]
     },
     "execution_count": 23,
     "metadata": {},
     "output_type": "execute_result"
    }
   ],
   "source": [
    "details_dict.get('page',0) #page is not a key so 0 will be printed"
   ]
  },
  {
   "cell_type": "code",
   "execution_count": null,
   "metadata": {},
   "outputs": [],
   "source": []
  }
 ],
 "metadata": {
  "kernelspec": {
   "display_name": "base",
   "language": "python",
   "name": "python3"
  },
  "language_info": {
   "codemirror_mode": {
    "name": "ipython",
    "version": 3
   },
   "file_extension": ".py",
   "mimetype": "text/x-python",
   "name": "python",
   "nbconvert_exporter": "python",
   "pygments_lexer": "ipython3",
   "version": "3.10.8"
  },
  "orig_nbformat": 4
 },
 "nbformat": 4,
 "nbformat_minor": 2
}
