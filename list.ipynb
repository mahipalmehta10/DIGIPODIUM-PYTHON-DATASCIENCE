{
 "cells": [
  {
   "cell_type": "code",
   "execution_count": 6,
   "metadata": {},
   "outputs": [],
   "source": [
    "a=[] #empty list\n",
    "b=[1,2,3,4] #list of numbers\n",
    "c=['apple','banana','orange'] #list of strings\n",
    "d=[[1,2,3],[4,5,6],[7,8,9]]# lists of lists(nested lists)\n",
    "e=['apple',3,False,'mango',50.5,True] #list with mixed data types"
   ]
  },
  {
   "cell_type": "code",
   "execution_count": 3,
   "metadata": {},
   "outputs": [
    {
     "name": "stdout",
     "output_type": "stream",
     "text": [
      "['t', 'h', 'e', ' ', 'l', 'o', 's', 't', ' ', 'm', 'e', 't', 'a', 'l']\n"
     ]
    }
   ],
   "source": [
    "word='the lost metal'\n",
    "chars=list(word) #to convert string to list\n",
    "print(chars)"
   ]
  },
  {
   "cell_type": "code",
   "execution_count": 4,
   "metadata": {},
   "outputs": [
    {
     "name": "stdout",
     "output_type": "stream",
     "text": [
      "[1, 2, 3, 1, 2, 3, 1, 2, 3, 1, 2, 3, 1, 2, 3]\n"
     ]
    }
   ],
   "source": [
    "f=[1,2,3]*5 #repeat list 5 times\n",
    "print(f)"
   ]
  },
  {
   "cell_type": "code",
   "execution_count": null,
   "metadata": {},
   "outputs": [],
   "source": []
  },
  {
   "cell_type": "code",
   "execution_count": 7,
   "metadata": {},
   "outputs": [],
   "source": [
    "name=input('enter a name:')\n",
    "a.append(name)"
   ]
  },
  {
   "cell_type": "code",
   "execution_count": 8,
   "metadata": {},
   "outputs": [
    {
     "data": {
      "text/plain": [
       "15"
      ]
     },
     "execution_count": 8,
     "metadata": {},
     "output_type": "execute_result"
    }
   ],
   "source": [
    "movies=['hungama','pathan','heera pheeri','dhol','don no 1','avengers','harry porter','without remorse','lone survivor','kgf','mission impossible','gajni','spiderman','rrr','13 hours']\n",
    "len(movies)"
   ]
  },
  {
   "cell_type": "code",
   "execution_count": 9,
   "metadata": {},
   "outputs": [
    {
     "name": "stdout",
     "output_type": "stream",
     "text": [
      "avengers\n",
      "13 hours\n"
     ]
    }
   ],
   "source": [
    "print(movies[5])\n",
    "print(movies[-1])"
   ]
  },
  {
   "cell_type": "code",
   "execution_count": 11,
   "metadata": {},
   "outputs": [
    {
     "name": "stdout",
     "output_type": "stream",
     "text": [
      "['hungama', 'narcos', 'heera pheeri', 'dhol', 'don no 1', 'avengers', 'harry porter', 'without remorse', 'lone survivor', 'kgf', 'mission impossible', 'gajni', 'spiderman', 'rrr', '13 hours']\n"
     ]
    }
   ],
   "source": [
    "movies[1]='narcos'\n",
    "print(movies)"
   ]
  },
  {
   "cell_type": "code",
   "execution_count": 13,
   "metadata": {},
   "outputs": [
    {
     "data": {
      "text/plain": [
       "['avengers', 'harry porter', 'without remorse', 'lone survivor']"
      ]
     },
     "execution_count": 13,
     "metadata": {},
     "output_type": "execute_result"
    }
   ],
   "source": [
    "movies[5:-6]"
   ]
  },
  {
   "cell_type": "code",
   "execution_count": 19,
   "metadata": {},
   "outputs": [
    {
     "name": "stdout",
     "output_type": "stream",
     "text": [
      "['hungama', 'narcos', 'heera pheeri', 'dhol', 'don no 1']\n",
      "['mission impossible', 'gajni', 'spiderman', 'rrr', '13 hours']\n",
      "['dhol', 'don no 1', 'avengers', 'harry porter', 'without remorse', 'lone survivor', 'kgf', 'mission impossible', 'gajni']\n",
      "['13 hours', 'rrr', 'spiderman', 'gajni', 'mission impossible', 'kgf', 'lone survivor', 'without remorse', 'harry porter', 'avengers', 'don no 1', 'dhol', 'heera pheeri', 'narcos', 'hungama']\n"
     ]
    }
   ],
   "source": [
    "#first five movies and last five movies\n",
    "print(movies[:5])\n",
    "print(movies[-5:]) # last five movies\n",
    "print(movies[3:-3]) #all movies except first and last three\n",
    "print(movies[::-1]) # all movies but in reverse order (sara data nikalo)"
   ]
  },
  {
   "cell_type": "code",
   "execution_count": null,
   "metadata": {},
   "outputs": [],
   "source": []
  },
  {
   "cell_type": "code",
   "execution_count": null,
   "metadata": {},
   "outputs": [],
   "source": []
  }
 ],
 "metadata": {
  "kernelspec": {
   "display_name": "base",
   "language": "python",
   "name": "python3"
  },
  "language_info": {
   "codemirror_mode": {
    "name": "ipython",
    "version": 3
   },
   "file_extension": ".py",
   "mimetype": "text/x-python",
   "name": "python",
   "nbconvert_exporter": "python",
   "pygments_lexer": "ipython3",
   "version": "3.10.8"
  },
  "orig_nbformat": 4,
  "vscode": {
   "interpreter": {
    "hash": "0a393f6f2f3989fe3134afbb2dfaab9aee06b31953dc2003d918565c3aaf069d"
   }
  }
 },
 "nbformat": 4,
 "nbformat_minor": 2
}
